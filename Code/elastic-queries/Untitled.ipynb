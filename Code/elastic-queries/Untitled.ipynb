{
 "cells": [
  {
   "cell_type": "code",
   "execution_count": 34,
   "metadata": {
    "collapsed": false,
    "scrolled": false
   },
   "outputs": [
    {
     "name": "stdout",
     "output_type": "stream",
     "text": [
      "{ \"index\" : { \"_index\": \"courses\", \"_type\": \"_doc\" ,\"_id\": \"1\"}}\n",
      "{ \"code\":\"COMP3600\", \"title\":\"Algorithms\", \"description\": \"This course deals with the study of algorithms for solving practical problems, and of the data structures used in algorithm implementations. Detailed analysis of the resource requirements of algorithms will be an important issue.The topics covered will include: mathematical tools, greedy algorithms, dynamic programming, divide-and-conquer, data structures (hash tables, binary search trees, red-black trees, and disjoint sets), basic search techniques (breadth-first search and depth-first search), graph algorithms (topo-logical sort, minimum spanning trees and single-source and all-to-all shortest paths), etc.Â\", \"outcome\": \"Robert Sedgewick,Algorithms in C (or JAVA), Addison-Wesley, 3rd Edition, 2002.Sara Baase and Allen Van Gelder,Computer Algorithms   Introduction to Design and Anal-ysis, Addison-Wesley, 3rd Edition, 2000.John Kleinberg and Eva Tardos,Algorithms Design, Addison-Wesley, 2005.Sanjoy Dasgupta, Christos Papadimitriou and Umesh Vazirani,Algorithms, McGraw HillHigher Education, 2008.Alfred V. Aho, John E. Hopcroft and Je rey D. Ullman,The Design and Analysis of Com-puter Algorithms, Addison-Wesley, 1974\", \"area\": \"COMP\", \"prereq_text\": \"To enrol in this course you must have completed COMP1110 or COMP1140 or COMP1510; and 6 units of 2000-level COMP courses; and 6 units of 2000-level MATH courses or COMP1600 or COMP2600. You are not able to enrol in this course if you have successfully completed COMP6466.\", \"pre_req_cnf\":[[\"COMP1110\", \"COMP1140\", \"COMP1600\", \"COMP2600\"], [\"~COMP6466\"]]}\n"
     ]
    }
   ],
   "source": [
    "import pandas as pd\n",
    "import re\n",
    "\n",
    "d=pd.read_csv(\"course_table_prereqs_cnf.csv\", encoding='latin-1')\n",
    "\n",
    "count_index = 1\n",
    "courses = set()\n",
    "\n",
    "for index, row in d.iterrows():\n",
    "    if True:\n",
    "        code =str(row[2])\n",
    "        title = str(row[3])\n",
    "        desc = str(row[4])\n",
    "        lo = str(row[5])\n",
    "        prereq_plaintext = str(row[6])\n",
    "        prereq_cnf = row[7]\n",
    "                \n",
    "        if len(code) != 8 or (not title.strip()) or (not desc.strip()) or (not lo.strip()):\n",
    "            continue\n",
    "\n",
    "        if not '1' <= code[4] <= '9':\n",
    "            continue\n",
    "\n",
    "        if int(code[4]) > 4:\n",
    "            continue\n",
    "\n",
    "        if code in courses:\n",
    "            continue\n",
    "        \n",
    "        courses.add(code)\n",
    "                \n",
    "        # sanitize the strings\n",
    "        code = code.replace('\"', '')\n",
    "        title = title.replace('\"', '')\n",
    "        desc = desc.replace('\"', '')\n",
    "        lo = lo.replace('\"', '')\n",
    "        \n",
    "        desc = desc.replace(\"åÊ\", ' ')\n",
    "        lo = lo.replace(\"åÊ\", ' ')\n",
    "        desc = bytes(desc, 'utf-8').decode('utf-8', 'ignore')\n",
    "        lo = bytes(lo, 'utf-8').decode('utf-8', 'ignore')\n",
    "\n",
    "        code = code.replace('\\\\', ' ')\n",
    "        title = title.replace('\\\\', ' ')\n",
    "        desc = desc.replace('\\\\', ' ')\n",
    "        lo = lo.replace('\\\\', ' ')\n",
    "        lo = ' '.join(lo.split())\n",
    "        desc = ' '.join(desc.split())\n",
    "        desc = desc.replace('{', ' ')\n",
    "        lo = lo.replace('{', ' ')\n",
    "        desc = desc.replace('}', ' ')\n",
    "        lo = lo.replace('}', ' ')\n",
    "        area = code[:4]\n",
    "        \n",
    "        prereq_plaintext = ' '.join(prereq_plaintext.split())\n",
    "        prereq_cnf = prereq_cnf.replace(\"'\", '\"')\n",
    "        \n",
    "        regex = \"^[A-Za-z0-9 ]*[A-Za-z0-9][A-Za-z0-9 ]*\"\n",
    "        re.match(regex, desc)\n",
    "        re.match(regex, lo)\n",
    "        \n",
    "        # form the JSON\n",
    "        print(\"{ \\\"index\\\" : { \\\"_index\\\": \\\"courses\\\", \\\"_type\\\": \\\"_doc\\\" ,\\\"_id\\\": \\\"\" + str(count_index) +\"\\\"}}\")\n",
    "        count_index += 1\n",
    "        print(\"{ \\\"code\\\":\\\"\" + code +\"\\\", \\\"title\\\":\\\"\" + title + \"\\\", \\\"description\\\": \\\"\" + desc + \"\\\", \\\"outcome\\\": \\\"\" + lo + \"\\\", \\\"area\\\": \\\"\" + area + \"\\\", \\\"prereq_text\\\": \\\"\" + prereq_plaintext + \"\\\", \\\"pre_req_cnf\\\":\" + prereq_cnf + \"}\")\n"
   ]
  },
  {
   "cell_type": "code",
   "execution_count": null,
   "metadata": {
    "collapsed": true
   },
   "outputs": [],
   "source": []
  },
  {
   "cell_type": "code",
   "execution_count": null,
   "metadata": {
    "collapsed": true
   },
   "outputs": [],
   "source": []
  },
  {
   "cell_type": "code",
   "execution_count": null,
   "metadata": {
    "collapsed": true
   },
   "outputs": [],
   "source": []
  },
  {
   "cell_type": "code",
   "execution_count": null,
   "metadata": {
    "collapsed": true
   },
   "outputs": [],
   "source": []
  }
 ],
 "metadata": {
  "kernelspec": {
   "display_name": "Python 3",
   "language": "python",
   "name": "python3"
  },
  "language_info": {
   "codemirror_mode": {
    "name": "ipython",
    "version": 3
   },
   "file_extension": ".py",
   "mimetype": "text/x-python",
   "name": "python",
   "nbconvert_exporter": "python",
   "pygments_lexer": "ipython3",
   "version": "3.6.0"
  }
 },
 "nbformat": 4,
 "nbformat_minor": 2
}
