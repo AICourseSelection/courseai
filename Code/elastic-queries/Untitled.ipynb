{
 "cells": [
  {
   "cell_type": "code",
   "execution_count": 3,
   "metadata": {
    "collapsed": false
   },
   "outputs": [
    {
     "name": "stdout",
     "output_type": "stream",
     "text": [
      "{ \"index\" : { \"_index\": \"courses\", \"_id\": \"1\"}}\n",
      "{ \"code\":\"BUSN1101\", \"title\":\"Introduction to Commercial Law\", \"description\": \"This course introduces you to the Australian legal system and the law regulating business activities. Particular focus is given to the law of contract. The course also covers the laws relating to particular types of business contracts such as sales of goods and insurance contracts. Aspects of property law and negligence are also covered.\", \"outcome\": \"nan\" }\n",
      "{ \"index\" : { \"_index\": \"courses\", \"_id\": \"2\"}}\n",
      "{ \"code\":\"BUSN2101\", \"title\":\"Law of Business Entities\", \"description\": \"This course introduces the legal principles relevant to business structures in Australia.Corporate law is emphasised, comprising issues such as: corporate governance (the structure and role of the board of directors, directors' duties, members' rights and shareholder meetings); corporate liability (corporate contracting, negligence issues faced by corporations); corporate finance (debt and equity financing, profit distribution and protection of creditors); and external administration (corporate insolvency, receivership, voluntary administration and winding up).\", \"outcome\": \"nan\" }\n",
      "{ \"index\" : { \"_index\": \"courses\", \"_id\": \"3\"}}\n",
      "{ \"code\":\"BUSN2011\", \"title\":\"Management Accounting\", \"description\": \"This course provides students with an appreciation of management accounting concepts related to the management functions of decision-making, planning and control. The course introduces a range of management accounting tools, including job and process costing, variance analysis, activity based costing and the balanced scorecard. Students are introduced to the application of management accounting tools for pricing, budgetary control, cost allocation and performance evaluation as well as new developments in management accounting knowledge and techniques and how to assess these through cost-benefit analysis.\", \"outcome\": \"nan\" }\n",
      "{ \"index\" : { \"_index\": \"courses\", \"_id\": \"4\"}}\n",
      "{ \"code\":\"BUSN3014\", \"title\":\"Principles of Tax Law\", \"description\": \"The course introduces students to the principles of tax law in Australia with a focus on income tax. The important provisions of the Income Tax Assessment Acts 1936 and 1997 about the concepts of income, capital gains, and deductions are considered in detail. Other topics include international aspects of income tax, tax treatment of different entities, tax planning and goods and services tax.\", \"outcome\": \"nan\" }\n",
      "{ \"index\" : { \"_index\": \"courses\", \"_id\": \"5\"}}\n",
      "{ \"code\":\"BUSN3059\", \"title\":\"Project/Case Studies in Commerce\", \"description\": \"nan\", \"outcome\": \"nan\" }\n",
      "{ \"index\" : { \"_index\": \"courses\", \"_id\": \"6\"}}\n",
      "{ \"code\":\"BUSN3006\", \"title\":\"Public Sector Accounting\", \"description\": \"The course examines the role of government in Australia and its mechanisms for control over public expenditures and resources to ensure greater efficiency and effectiveness in government activities. It considers the public sector environment and how it differs from private markets, including the roles of externalities and accountability. It examines major issues in public sector financial management; the use of cash and accrual accounting information systems; management of financial and physical assets including environmental and heritage considerations; marketisation of public sector activities; performance measurement issues for departments of state; management and performance of government business enterprises including privatisation issues; public sector audits and roles of the Auditor General and accountability issues; role of the budget, budget process and management, and cash and accrual budgeting systems.\", \"outcome\": \"nan\" }\n",
      "{ \"index\" : { \"_index\": \"courses\", \"_id\": \"7\"}}\n",
      "{ \"code\":\"BUSN4007\", \"title\":\"Analysis of Financial Reporting\", \"description\": \"This course is about financial reporting, but not how to report or account for activities. Two key features of the syllabus are the explicit linkage to the research literature and the emphasis on empirical evidence. The adopted approach is largely based on the economics of accounting and finance. The course also aims to introduce students to the theoretical and practical skills required to conduct their own empirical research.\", \"outcome\": \"nan\" }\n",
      "{ \"index\" : { \"_index\": \"courses\", \"_id\": \"8\"}}\n",
      "{ \"code\":\"BUSN3002\", \"title\":\"Auditing\", \"description\": \"This unit is primarily focused on the external audit of corporate financial statements while also covering other assurance services, professional ethics, and legal liabilities. The lectures presented are structured to correspond with auditing process in theory and practice, and inevitably integrate Australian and International Auditing Standards.The majority of the lectures deal with the various activities undertaken by external auditors. The main stages of the audit process are addressed including risk analysis in auditing, audit planning and documentation, fraud auditing, gathering and evaluating audit evidence (including performance of tests of controls and substantive audit procedures) and the formation of the audit opinion. Other topics, including auditors' legal responsibilities, audit quality and ethics, and other assurance services, are also dealt with as special topics.The lectures mainly deal with the concepts underlying the methodology, while the tutorial assignments are used to demonstrate how the methodology is applied in practical situations.\", \"outcome\": \"nan\" }\n",
      "{ \"index\" : { \"_index\": \"courses\", \"_id\": \"9\"}}\n",
      "{ \"code\":\"BUSN1001\", \"title\":\"Business Reporting and Analysis\", \"description\": \"The course focuses on the nature and scope of business reporting and the need for financial and non-financial information for business decision-making. It provides students with fundamental financial management knowledge in the contemporary business environment. The course commences with an introduction to the use of business reports and the financial reporting regulatory environment. The concepts of primary financial reports and specific reporting issues are then discussed, with a focus on the preparation and analysis of financial statements from the perspectives of business report users. The course proceeds with discussions on the basic financial decision tools, the use of past and future-oriented information and how the knowledge is applied to managerial decision-making, including planning, control and investment opportunities.\", \"outcome\": \"nan\" }\n",
      "{ \"index\" : { \"_index\": \"courses\", \"_id\": \"10\"}}\n",
      "{ \"code\":\"BUSN2015\", \"title\":\"Company Accounting\", \"description\": \"This course covers the characteristics of the Australian accounting environment and its financial reporting requirements for companies, and expands on accounting for non-current assets, accounting for intangible assets, accounting for liabilities and owners' equity, accounting for a range of financial accounting issues (e.g., leases and income tax), and, most importantly, provides a comprehensive coverage of consolidation issues and equity investments.\", \"outcome\": \"nan\" }\n",
      "{ \"index\" : { \"_index\": \"courses\", \"_id\": \"11\"}}\n",
      "{ \"code\":\"BUSN4045\", \"title\":\"Corporate Governance\", \"description\": \" This course provides a framework for analysing issues in the governance of corporations derived from a comprehensive understanding of the concepts and issues associated with corporate governance practices and mechanisms. This is achieved by examining the nature of corporations and their environments, and the concepts, principles and practices of corporate governance. This examination is based on a public interest perspective of corporations. Topics explore the complex interactive roles of various stakeholders in corporate governance, with some emphasis shareholders, directors and management. Attention is also given the regulation of corporations and to selected international corporate governance issues.\", \"outcome\": \"nan\" }\n",
      "{ \"index\" : { \"_index\": \"courses\", \"_id\": \"12\"}}\n",
      "\" }  reporting.action in corporate social responsibility, accountability andy and Reporting\", \"description\": \"This course introduces students to the roles of corporations in society and their accountability, accounting and reporting issues in the context of sustainability and social justice. It examines issues in Corporate Social Responsibility (CSR), emphasising accountability for, and reporting of, the social and environmental effects of a corporation's economic actions to stakeholders. This extends the corporation's accountability beyond financial disclosures to shareholders and is predicated on the assumption that corporations have social responsibilities that are much broader than generating shareholder wealth.\", \"outcome\": \"\n",
      "{ \"index\" : { \"_index\": \"courses\", \"_id\": \"13\"}}\n",
      "{ \"code\":\"BUSN3008\", \"title\":\"Financial Reporting By Corporations\", \"description\": \"The course examines a selection of advanced financial reporting issues that are included, or under consideration for inclusion in, accounting standards applicable in Australia. It provides an advanced description of the corporate reporting environment and its challenges, and examines the political and international pressures shaping the standard setting process in Australia. It also addresses the objectives and social and economic roles played by financial accounting and reporting. The course further examines accounting and disclosure issues pertaining to fair value measurement, financial instruments, share-based payments, foreign currency translation, segment reporting, specific industries, external administration and liquidation and advanced topics related to equity interests. Technical and theoretical aspects are considered.\", \"outcome\": \"nan\" }\n",
      "{ \"index\" : { \"_index\": \"courses\", \"_id\": \"14\"}}\n",
      "{ \"code\":\"BUSN2036\", \"title\":\"Financial Statement Analysis\", \"description\": \"This is an intermediate course which examines the analysis of financial information presented in firms' financial reports. The course comprises three related sections: fundamental analysis; valuation; and, the application of fundamental analysis and valuation techniques to a variety of specific decisions. Fundamental analysis involves answering questions such as: how is the firm performing? how might the firm perform in the future? what risks does the firm face? In addressing these issues particular attention is paid to the impact of financial reporting choices on the relation between reported earnings and firms' underlying economic performance. Valuation describes the methods by which our expectations of firms' future performance may be converted to a present day value of the firm's assets, and the various financial claims on those assets. The final section of the course provides an introductory coverage to issues such as equity security analysis and credit analysis, with a strong emphasis on the use of financial statement data for these purposes.\", \"outcome\": \"Describe and apply the basic techniques of financial statement analysis;Explain the relationship between strategic business analysis, accounting analysis and financial analysis;Identify and utilise value-relevant information contained within financial statements;Recognise and explain the fundamental role of accounting numbers in the valuation of entities and the key financial claims on these entities assets (equity and debt securities);Understand the impact of financial reporting choices on the usefulness of reported earnings to predict future performance;Prepare a written analysis of a listed company, which incorporates and synthesises the strategic, accounting and financing techniques covered in the course;Conduct applied business research (including locating, critically interpreting and evaluating firm-specific financial information);Work effectively in a team environment.\" }\n",
      "{ \"index\" : { \"_index\": \"courses\", \"_id\": \"15\"}}\n",
      "{ \"code\":\"BUSN4013\", \"title\":\"Seminar in Research Method in Commerce\", \"description\": \" This course introduces students to the world of research in business-related disciplines. Students gain an understanding of how scientific research is undertaken and are introduced to different research approaches. By the end of the course, students should be able to critically evaluate research (their own and that of others) regardless of the research approach. The overall aim is enable students to develop the skills needed to design and undertake research that is ethical, significant, rigorous, and relevant. accounting, including technical aspects of cost accounting and behavioural responses to management accounting information;   examine links between management accounting and decision making, planning and control;   understand the relationship between management accounting and performance management; consider the relationship between management accounting and strategy; and   learn to be open to new developments in management accounting knowledge and techniques and how to assess these through cost-benefit analysis.\", \"outcome\": \"nan\" }\n",
      "{ \"index\" : { \"_index\": \"courses\", \"_id\": \"16\"}}\n",
      "{ \"code\":\"BUSN3060\", \"title\":\"Special Topics In Commerce\", \"description\": \"nan\", \"outcome\": \"nan\" }\n",
      "{ \"index\" : { \"_index\": \"courses\", \"_id\": \"17\"}}\n",
      "{ \"code\":\"BUSN4010\", \"title\":\"Special Topics in Commerce\", \"description\": \"Special topics are subject to confirmation by the relevant school. Please see the Program Convenors for further information.\", \"outcome\": \"nan\" }\n",
      "{ \"index\" : { \"_index\": \"courses\", \"_id\": \"18\"}}\n",
      "{ \"code\":\"BUSN4101\", \"title\":\"Special Topics in Commerce\", \"description\": \"Special topics are subject to confirmation by the relevant school. Please see the Program Convenors for further information.\", \"outcome\": \"nan\" }\n"
     ]
    }
   ],
   "source": [
    "import pandas as pd\n",
    "import re\n",
    "\n",
    "d=pd.read_csv(\"course_descriptions_all.csv\", encoding='latin-1')\n",
    "\n",
    "count_index = 1\n",
    "courses = set()\n",
    "\n",
    "for index, row in d.iterrows():\n",
    "    if 'BUSN' in str(row[1]):\n",
    "        code =str(row[1])\n",
    "        title = str(row[2])\n",
    "        desc = str(row[3])\n",
    "        lo = str(row[4])\n",
    "        \n",
    "        if int(code[4]) > 4:\n",
    "            continue\n",
    "        \n",
    "        if code in courses:\n",
    "            continue\n",
    "        \n",
    "        courses.add(code)\n",
    "        \n",
    "        # sanitize the strings\n",
    "        code = code.replace('\"', '')\n",
    "        title = title.replace('\"', '')\n",
    "        desc = desc.replace('\"', '')\n",
    "        lo = lo.replace('\"', '')\n",
    "        \n",
    "        desc = desc.replace(\"åÊ\", '')\n",
    "        lo = lo.replace(\"åÊ\", '')\n",
    "        desc = bytes(desc, 'utf-8').decode('utf-8', 'ignore')\n",
    "        lo = bytes(lo, 'utf-8').decode('utf-8', 'ignore')\n",
    "\n",
    "        code = code.replace('\\\\', '')\n",
    "        title = title.replace('\\\\', '')\n",
    "        desc = desc.replace('\\\\', '')\n",
    "        lo = lo.replace('\\\\', '')\n",
    "        desc = desc.replace('\\t', ' ')\n",
    "        lo = lo.replace('\\t', ' ')\n",
    "        \n",
    "        regex = \"^[A-Za-z0-9 ]*[A-Za-z0-9][A-Za-z0-9 ]*\"\n",
    "        re.match(regex, desc)\n",
    "        re.match(regex, lo)\n",
    "        \n",
    "        # form the JSON\n",
    "        print(\"{ \\\"index\\\" : { \\\"_index\\\": \\\"courses\\\", \\\"_id\\\": \\\"\" + str(count_index) +\"\\\"}}\")\n",
    "        count_index += 1\n",
    "        print(\"{ \\\"code\\\":\\\"\" + code +\"\\\", \\\"title\\\":\\\"\" + title + \"\\\", \\\"description\\\": \\\"\" + desc + \"\\\", \\\"outcome\\\": \\\"\" + lo + \"\\\" }\")\n"
   ]
  }
 ],
 "metadata": {
  "kernelspec": {
   "display_name": "Python 3",
   "language": "python",
   "name": "python3"
  },
  "language_info": {
   "codemirror_mode": {
    "name": "ipython",
    "version": 3
   },
   "file_extension": ".py",
   "mimetype": "text/x-python",
   "name": "python",
   "nbconvert_exporter": "python",
   "pygments_lexer": "ipython3",
   "version": "3.6.0"
  }
 },
 "nbformat": 4,
 "nbformat_minor": 2
}
