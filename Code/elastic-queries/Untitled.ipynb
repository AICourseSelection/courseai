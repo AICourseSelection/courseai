{
 "cells": [
  {
   "cell_type": "code",
   "execution_count": 4,
   "metadata": {
    "collapsed": false,
    "scrolled": false
   },
   "outputs": [],
   "source": [
    "import pandas as pd\n",
    "import re\n",
    "\n",
    "d=pd.read_csv(\"course_table_prereqs_cnf.csv\", encoding='latin-1')\n",
    "\n",
    "count_index = 1\n",
    "courses = set()\n",
    "\n",
    "for index, row in d.iterrows():\n",
    "    if True:\n",
    "        code =str(row[2])\n",
    "        title = str(row[3])\n",
    "        desc = str(row[4])\n",
    "        lo = str(row[5])\n",
    "        prereq_plaintext = str(row[6])\n",
    "        prereq_cnf = row[7]\n",
    "                \n",
    "        if len(code) != 8 or (not title.strip()) or (not desc.strip()) or (not lo.strip()):\n",
    "            continue\n",
    "\n",
    "        if not '1' <= code[4] <= '9':\n",
    "            continue\n",
    "\n",
    "        if int(code[4]) > 4:\n",
    "            continue\n",
    "\n",
    "        if code in courses:\n",
    "            continue\n",
    "        \n",
    "        courses.add(code)\n",
    "                \n",
    "        # sanitize the strings\n",
    "        code = code.replace('\"', '')\n",
    "        title = title.replace('\"', '')\n",
    "        desc = desc.replace('\"', '')\n",
    "        lo = lo.replace('\"', '')\n",
    "        \n",
    "        desc = desc.replace(\"åÊ\", ' ')\n",
    "        lo = lo.replace(\"åÊ\", ' ')\n",
    "        desc = bytes(desc, 'utf-8').decode('utf-8', 'ignore')\n",
    "        lo = bytes(lo, 'utf-8').decode('utf-8', 'ignore')\n",
    "\n",
    "        code = code.replace('\\\\', ' ')\n",
    "        title = title.replace('\\\\', ' ')\n",
    "        desc = desc.replace('\\\\', ' ')\n",
    "        lo = lo.replace('\\\\', ' ')\n",
    "        lo = ' '.join(lo.split())\n",
    "        desc = ' '.join(desc.split())\n",
    "        desc = desc.replace('{', ' ')\n",
    "        lo = lo.replace('{', ' ')\n",
    "        desc = desc.replace('}', ' ')\n",
    "        lo = lo.replace('}', ' ')\n",
    "        area = code[:4]\n",
    "        \n",
    "        prereq_plaintext = ' '.join(prereq_plaintext.split())\n",
    "        prereq_cnf = prereq_cnf.replace(\"'\", '\"')\n",
    "        \n",
    "        regex = \"^[A-Za-z0-9 ]*[A-Za-z0-9][A-Za-z0-9 ]*\"\n",
    "        re.match(regex, desc)\n",
    "        re.match(regex, lo)\n",
    "        \n",
    "        # form the JSON\n",
    "        print(\"{ \\\"index\\\" : { \\\"_index\\\": \\\"courses\\\", \\\"_type\\\": \\\"_doc\\\" ,\\\"_id\\\": \\\"\" + str(count_index) +\"\\\"}}\")\n",
    "        count_index += 1\n",
    "        print(\"{ \\\"code\\\":\\\"\" + code +\"\\\", \\\"title\\\":\\\"\" + title + \"\\\", \\\"description\\\": \\\"\" + desc + \"\\\", \\\"outcome\\\": \\\"\" + lo + \"\\\", \\\"area\\\": \\\"\" + area + \"\\\", \\\"prereq_text\\\": \\\"\" + prereq_plaintext + \"\\\", \\\"pre_req_cnf\\\":\" + prereq_cnf + \"}\")\n"
   ]
  },
  {
   "cell_type": "code",
   "execution_count": null,
   "metadata": {
    "collapsed": true
   },
   "outputs": [],
   "source": []
  },
  {
   "cell_type": "code",
   "execution_count": null,
   "metadata": {
    "collapsed": true
   },
   "outputs": [],
   "source": []
  },
  {
   "cell_type": "code",
   "execution_count": null,
   "metadata": {
    "collapsed": true
   },
   "outputs": [],
   "source": []
  },
  {
   "cell_type": "code",
   "execution_count": null,
   "metadata": {
    "collapsed": true
   },
   "outputs": [],
   "source": []
  }
 ],
 "metadata": {
  "kernelspec": {
   "display_name": "Python 3",
   "language": "python",
   "name": "python3"
  },
  "language_info": {
   "codemirror_mode": {
    "name": "ipython",
    "version": 3
   },
   "file_extension": ".py",
   "mimetype": "text/x-python",
   "name": "python",
   "nbconvert_exporter": "python",
   "pygments_lexer": "ipython3",
   "version": "3.6.0"
  }
 },
 "nbformat": 4,
 "nbformat_minor": 2
}
