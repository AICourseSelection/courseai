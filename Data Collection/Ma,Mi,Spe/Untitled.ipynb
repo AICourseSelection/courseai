{
 "cells": [
  {
   "cell_type": "code",
   "execution_count": 2,
   "metadata": {
    "collapsed": true
   },
   "outputs": [],
   "source": [
    "import pandas as pd"
   ]
  },
  {
   "cell_type": "code",
   "execution_count": 17,
   "metadata": {
    "collapsed": false
   },
   "outputs": [
    {
     "name": "stdout",
     "output_type": "stream",
     "text": [
      "This major requires the completion of 48 units, which must include:48 units from the following courses A minimum of 12 units must come from completion of courses from the following list: Code Title Units ARAB3001 Advanced Arabic A 6 ARAB3002 Advanced Arabic B 6 ARAB3008 Arab Current Affairs and Media Arabic 6 ARAB 3009: A Semester in the Arab World A minimum of 18 units must come from completion of courses from the following list: Code Title Units ARAB1002 Introductory Arabic A 6 ARAB1003 Introductory Arabic B 6 ARAB 2010: Applied Arabic ARAB2011 Intermediate Arabic A 6 ARAB2012 Intermediate Arabic B 6 ARAB3003 Introductory Course to Arabic Linguistics 6 ARAB3004 Research Project (Arabic) 6 ARAB3005 Introductory Course to Arabic Literature 6 ARAB3006 Special Topics in Arabic 6 ARAB3007 Directed Study Project (Arabic) 6 MEAS1002 Islam : History and Institutions 6 POLS2031 Politics in the Middle East 6 Back to the top \"\n",
      "**\n",
      "This major requires the completion of 48 units, which must include:48 units from the following courses A minimum of 12 units must come from completion of courses from the following list: Code Title Units ARAB3001 Advanced Arabic A 6 ARAB3002 Advanced Arabic B 6 ARAB3008 Arab Current Affairs and Media Arabic 6 ARAB 3009: A Semester in the Arab World A minimum of 18 units must come from completion of courses from the following list: Code Title Units ARAB1002 Introductory Arabic A 6 ARAB1003 Introductory Arabic B 6 ARAB 2010: Applied Arabic ARAB2011 Intermediate Arabic A 6 ARAB2012 Intermediate Arabic B 6 ARAB3003 Introductory Course to Arabic Linguistics 6 ARAB3004 Research Project (Arabic) 6 ARAB3005 Introductory Course to Arabic Literature 6 ARAB3006 Special Topics in Arabic 6 ARAB3007 Directed Study Project (Arabic) 6 MEAS1002 Islam : History and Institutions 6 POLS2031 Politics in the Middle East 6 Back to the top \"\n"
     ]
    }
   ],
   "source": [
    "data = pd.read_excel('Tabulated Major,Minor,Spec.xlsx')\n",
    "\n",
    "for index, row in data.iterrows():\n",
    "    if row[0] != \"ARAB-MAJ\":\n",
    "        continue\n",
    "    z = ' '.join(row[2].split())\n",
    "    print(z)\n",
    "    print(\"**\")\n",
    "    x = (row[2].split(\"completion of the following course(s)\"))\n",
    "    for r in x:\n",
    "        r = ' '.join(r.split())\n",
    "        print(r)\n",
    "    if index == 0:\n",
    "        break"
   ]
  }
 ],
 "metadata": {
  "kernelspec": {
   "display_name": "Python 3",
   "language": "python",
   "name": "python3"
  },
  "language_info": {
   "codemirror_mode": {
    "name": "ipython",
    "version": 3
   },
   "file_extension": ".py",
   "mimetype": "text/x-python",
   "name": "python",
   "nbconvert_exporter": "python",
   "pygments_lexer": "ipython3",
   "version": "3.6.0"
  }
 },
 "nbformat": 4,
 "nbformat_minor": 2
}
